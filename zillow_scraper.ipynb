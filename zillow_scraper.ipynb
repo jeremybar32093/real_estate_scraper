{
 "cells": [
  {
   "cell_type": "markdown",
   "id": "placed-counter",
   "metadata": {},
   "source": [
    "## 1.) Dependencies and Setup"
   ]
  },
  {
   "cell_type": "code",
   "execution_count": 1,
   "id": "historic-photography",
   "metadata": {},
   "outputs": [],
   "source": [
    "# Import dependencies\n",
    "from splinter import Browser\n",
    "from bs4 import BeautifulSoup\n",
    "from webdriver_manager.chrome import ChromeDriverManager\n",
    "import pandas as pd\n",
    "import time"
   ]
  },
  {
   "cell_type": "code",
   "execution_count": 2,
   "id": "filled-chancellor",
   "metadata": {},
   "outputs": [
    {
     "name": "stderr",
     "output_type": "stream",
     "text": [
      "\n",
      "\n",
      "====== WebDriver manager ======\n",
      "Current google-chrome version is 91.0.4472\n",
      "Get LATEST driver version for 91.0.4472\n",
      "Driver [C:\\Users\\12015\\.wdm\\drivers\\chromedriver\\win32\\91.0.4472.101\\chromedriver.exe] found in cache\n"
     ]
    }
   ],
   "source": [
    "# Setup splinter\n",
    "executable_path = {'executable_path': ChromeDriverManager().install()}\n",
    "browser = Browser('chrome', **executable_path, headless=False)"
   ]
  },
  {
   "cell_type": "markdown",
   "id": "smart-stake",
   "metadata": {},
   "source": [
    "## 2.) Zillow Scrape "
   ]
  },
  {
   "cell_type": "code",
   "execution_count": 3,
   "id": "infectious-publisher",
   "metadata": {},
   "outputs": [],
   "source": [
    "# Use splinter browser variable to navigate to the mars news site\n",
    "url = 'https://www.zillow.com/homes/Philadelphia,-PA_rb/'\n",
    "browser.visit(url)"
   ]
  },
  {
   "cell_type": "code",
   "execution_count": 4,
   "id": "related-leadership",
   "metadata": {},
   "outputs": [
    {
     "name": "stdout",
     "output_type": "stream",
     "text": [
      "{'price_cut': 'Price cut: $24,100 (Jun 15)', 'address': '4614 Greene St, Philadelphia, PA 19144', 'current_price': '$274,900', 'number_bedrooms': '5 bds', 'number_bathrooms': '2 ba', 'square_feet': '1,792 sqft', 'property_status': '- House for sale'}\n",
      "{'price_cut': 'Price cut: $15,000 (Jul 2)', 'address': '6533 N Park Ave, Philadelphia, PA 19126', 'current_price': '$384,900', 'number_bedrooms': '4 bds', 'number_bathrooms': '4 ba', 'square_feet': '2,475 sqft', 'property_status': '- House for sale'}\n",
      "{'price_cut': 'Price cut: $5,000 (Jun 22)', 'address': '4816 N 10th St, Philadelphia, PA 19141', 'current_price': '$229,900', 'number_bedrooms': '4 bds', 'number_bathrooms': '2 ba', 'square_feet': '2,000 sqft', 'property_status': '- House for sale'}\n",
      "{'price_cut': 'Price cut: $30,000 (Jun 28)', 'address': '819 Caledonia St, Philadelphia, PA 19128', 'current_price': '$419,900', 'number_bedrooms': '4 bds', 'number_bathrooms': '2 ba', 'square_feet': '2,248 sqft', 'property_status': '- House for sale'}\n",
      "{'price_cut': 'Price cut: $10,000 (Jun 29)', 'address': '6069 Callowhill St, Philadelphia, PA 19151', 'current_price': '$189,999', 'number_bedrooms': '3 bds', 'number_bathrooms': '2 ba', 'square_feet': '1,443 sqft', 'property_status': '- Townhouse for sale'}\n",
      "{'price_cut': 'Price cut: $25,010 (Jun 24)', 'address': '1184 Bartlett Pl, Philadelphia, PA 19115', 'current_price': '$449,990', 'number_bedrooms': '4 bds', 'number_bathrooms': '5 ba', 'square_feet': '2,673 sqft', 'property_status': '- House for sale'}\n",
      "{'price_cut': 'Price cut: $5,000 (Jun 17)', 'address': '1335 McKinley St, Philadelphia, PA 19111', 'current_price': '$180,000', 'number_bedrooms': '3 bds', 'number_bathrooms': '1 ba', 'square_feet': '1,090 sqft', 'property_status': '- Townhouse for sale'}\n",
      "{'price_cut': 'Price cut: $10,000 (Jul 1)', 'address': '627 Lindley Ave, Philadelphia, PA 19120', 'current_price': '$169,900', 'number_bedrooms': '3 bds', 'number_bathrooms': '2 ba', 'square_feet': '1,470 sqft', 'property_status': '- Townhouse for sale'}\n",
      "[{'price_cut': 'Price cut: $24,100 (Jun 15)', 'address': '4614 Greene St, Philadelphia, PA 19144', 'current_price': '$274,900', 'number_bedrooms': '5 bds', 'number_bathrooms': '2 ba', 'square_feet': '1,792 sqft', 'property_status': '- House for sale'}, {'price_cut': 'Price cut: $15,000 (Jul 2)', 'address': '6533 N Park Ave, Philadelphia, PA 19126', 'current_price': '$384,900', 'number_bedrooms': '4 bds', 'number_bathrooms': '4 ba', 'square_feet': '2,475 sqft', 'property_status': '- House for sale'}, {'price_cut': 'Price cut: $5,000 (Jun 22)', 'address': '4816 N 10th St, Philadelphia, PA 19141', 'current_price': '$229,900', 'number_bedrooms': '4 bds', 'number_bathrooms': '2 ba', 'square_feet': '2,000 sqft', 'property_status': '- House for sale'}, {'price_cut': 'Price cut: $30,000 (Jun 28)', 'address': '819 Caledonia St, Philadelphia, PA 19128', 'current_price': '$419,900', 'number_bedrooms': '4 bds', 'number_bathrooms': '2 ba', 'square_feet': '2,248 sqft', 'property_status': '- House for sale'}, {'price_cut': 'Price cut: $10,000 (Jun 29)', 'address': '6069 Callowhill St, Philadelphia, PA 19151', 'current_price': '$189,999', 'number_bedrooms': '3 bds', 'number_bathrooms': '2 ba', 'square_feet': '1,443 sqft', 'property_status': '- Townhouse for sale'}, {'price_cut': 'Price cut: $25,010 (Jun 24)', 'address': '1184 Bartlett Pl, Philadelphia, PA 19115', 'current_price': '$449,990', 'number_bedrooms': '4 bds', 'number_bathrooms': '5 ba', 'square_feet': '2,673 sqft', 'property_status': '- House for sale'}, {'price_cut': 'Price cut: $5,000 (Jun 17)', 'address': '1335 McKinley St, Philadelphia, PA 19111', 'current_price': '$180,000', 'number_bedrooms': '3 bds', 'number_bathrooms': '1 ba', 'square_feet': '1,090 sqft', 'property_status': '- Townhouse for sale'}, {'price_cut': 'Price cut: $10,000 (Jul 1)', 'address': '627 Lindley Ave, Philadelphia, PA 19120', 'current_price': '$169,900', 'number_bedrooms': '3 bds', 'number_bathrooms': '2 ba', 'square_feet': '1,470 sqft', 'property_status': '- Townhouse for sale'}]\n"
     ]
    }
   ],
   "source": [
    "# Initial navigation to URL\n",
    "# Set up html objects for BeatifulSoup to scrape\n",
    "html = browser.html\n",
    "soup = BeautifulSoup(html, 'html.parser')\n",
    "\n",
    "# Create empty list to store output results\n",
    "price_cut_list = []\n",
    "\n",
    "# Create variable to track next-page, for purposes of clicking hrefs\n",
    "next_page = 1\n",
    "\n",
    "# Run through 50 pages of results, looking for price cuts\n",
    "for i in range(5):\n",
    "    # Use 'article' tag with class 'list-card' to individual property information\n",
    "    listings = soup.find_all('article', class_='list-card')\n",
    "\n",
    "    # Loop through all properties - look for price drops\n",
    "    for listing in listings:\n",
    "        # Find price cuts\n",
    "        price_cut = listing.find_all('span', class_='price-reduction')\n",
    "        if price_cut:\n",
    "            # Create empty dictionary to information of price cut results\n",
    "            price_cut_dict = {}\n",
    "            # Retrieve attributes for listings with price cuts\n",
    "            address = listing.find('address', class_='list-card-addr')\n",
    "            price = listing.find('div', class_='list-card-price')\n",
    "            property_details = listing.find('ul', class_='list-card-details')\n",
    "            number_bedrooms = property_details.select('li:nth-of-type(1)')\n",
    "            number_bathrooms = property_details.select('li:nth-of-type(2)')\n",
    "            square_feet = property_details.select('li:nth-of-type(3)')\n",
    "            property_status = property_details.select('li:nth-of-type(4)')\n",
    "\n",
    "            # Exclude vacant lots - remove status of '- Lot / Land for Sale' when it is item # 2 in list (# bathrooms)\n",
    "            if number_bathrooms[0].text != '- Lot / Land for sale':\n",
    "                price_cut_dict['price_cut'] = price_cut[0].text\n",
    "                price_cut_dict['address'] = address.text\n",
    "                price_cut_dict['current_price'] = price.text\n",
    "                price_cut_dict['number_bedrooms'] = number_bedrooms[0].text\n",
    "                price_cut_dict['number_bathrooms'] = number_bathrooms[0].text\n",
    "                price_cut_dict['square_feet'] = square_feet[0].text\n",
    "                price_cut_dict['property_status'] = property_status[0].text\n",
    "                # Append dictionary entry to overall list\n",
    "                price_cut_list.append(price_cut_dict)\n",
    "\n",
    "    try:\n",
    "        next_page += 1\n",
    "        next_url = f'https://www.zillow.com/philadelphia-pa/{next_page}_p/'\n",
    "        time.sleep(10)\n",
    "        browser.visit(next_url)\n",
    "        html = browser.html\n",
    "        soup = BeautifulSoup(html, 'html.parser')\n",
    "    except:\n",
    "        print(\"Scraping complete\")\n",
    "            \n",
    "            \n",
    "#             print(price_cut.text)\n",
    "#             print(address.text)\n",
    "#             print(price.text)\n",
    "#             print(number_bedrooms[0].text)\n",
    "#             print(number_bathrooms[0].text)\n",
    "#             print(square_feet[0].text)\n",
    "#             print(property_status[0].text)\n",
    "\n",
    "print(price_cut_list)\n",
    "\n"
   ]
  },
  {
   "cell_type": "code",
   "execution_count": null,
   "id": "solar-moses",
   "metadata": {},
   "outputs": [],
   "source": [
    "# Quit browser\n",
    "browser.quit()"
   ]
  },
  {
   "cell_type": "code",
   "execution_count": null,
   "id": "attached-calculation",
   "metadata": {},
   "outputs": [],
   "source": []
  }
 ],
 "metadata": {
  "kernelspec": {
   "display_name": "Python 3",
   "language": "python",
   "name": "python3"
  },
  "language_info": {
   "codemirror_mode": {
    "name": "ipython",
    "version": 3
   },
   "file_extension": ".py",
   "mimetype": "text/x-python",
   "name": "python",
   "nbconvert_exporter": "python",
   "pygments_lexer": "ipython3",
   "version": "3.8.8"
  }
 },
 "nbformat": 4,
 "nbformat_minor": 5
}
