{
 "cells": [
  {
   "cell_type": "markdown",
   "id": "adjustable-mechanics",
   "metadata": {},
   "source": [
    "## 1.) Dependencies and Setup"
   ]
  },
  {
   "cell_type": "code",
   "execution_count": 1,
   "id": "proof-burke",
   "metadata": {},
   "outputs": [],
   "source": [
    "# Import dependencies\n",
    "from splinter import Browser\n",
    "from bs4 import BeautifulSoup\n",
    "from webdriver_manager.chrome import ChromeDriverManager\n",
    "import pandas as pd\n",
    "import time"
   ]
  },
  {
   "cell_type": "code",
   "execution_count": 2,
   "id": "integrated-waste",
   "metadata": {},
   "outputs": [
    {
     "name": "stderr",
     "output_type": "stream",
     "text": [
      "\n",
      "\n",
      "====== WebDriver manager ======\n",
      "Current google-chrome version is 91.0.4472\n",
      "Get LATEST driver version for 91.0.4472\n",
      "Driver [C:\\Users\\12015\\.wdm\\drivers\\chromedriver\\win32\\91.0.4472.101\\chromedriver.exe] found in cache\n"
     ]
    }
   ],
   "source": [
    "# Setup splinter\n",
    "executable_path = {'executable_path': ChromeDriverManager().install()}\n",
    "browser = Browser('chrome', **executable_path, headless=False)"
   ]
  },
  {
   "cell_type": "markdown",
   "id": "terminal-export",
   "metadata": {},
   "source": [
    "## 2.) Zillow Scrape "
   ]
  },
  {
   "cell_type": "code",
   "execution_count": 3,
   "id": "broad-humor",
   "metadata": {},
   "outputs": [],
   "source": [
    "# Use splinter browser variable to navigate to the mars news site\n",
    "url = 'https://www.zillow.com/homes/Philadelphia,-PA_rb/'\n",
    "browser.visit(url)"
   ]
  },
  {
   "cell_type": "code",
   "execution_count": 19,
   "id": "transparent-stephen",
   "metadata": {},
   "outputs": [
    {
     "name": "stdout",
     "output_type": "stream",
     "text": [
      "Price cut: $7,000 (Jul 3)\n",
      "3319 Argyle St, Philadelphia, PA 19134\n",
      "$97,000\n",
      "2 bds\n",
      "1 ba\n",
      "840 sqft\n",
      "- Townhouse for sale\n"
     ]
    }
   ],
   "source": [
    "# Scrape using BeautifulSoup\n",
    "html = browser.html\n",
    "soup = BeautifulSoup(html, 'html.parser')\n",
    "\n",
    "# Run through 50 pages of results, looking for price cuts\n",
    "#for i in range(50):\n",
    "\n",
    "# Use 'article' tag with class 'list-card' to individual property information\n",
    "listings = soup.find_all('article', class_='list-card')\n",
    "# Loop through all properties - look for price drops\n",
    "for listing in listings:\n",
    "    # Find price cuts\n",
    "    price_cut = listing.find('span', class_='price-reduction')\n",
    "    if price_cut is not None:\n",
    "        address = listing.find('address', class_='list-card-addr')\n",
    "        price = listing.find('div', class_='list-card-price')\n",
    "        property_details = listing.find('ul', class_='list-card-details')\n",
    "        number_bedrooms = property_details.select('li:nth-of-type(1)')\n",
    "        number_bathrooms = property_details.select('li:nth-of-type(2)')\n",
    "        square_feet = property_details.select('li:nth-of-type(3)')\n",
    "        property_status = property_details.select('li:nth-of-type(4)')\n",
    "        \n",
    "        # Exclude vacant lots - remove status of '- Lot / Land for Sale' when it is item # 2 in list (# bathrooms)\n",
    "        if number_bathrooms[0].text != '- Lot / Land for sale':\n",
    "            print(price_cut.text)\n",
    "            print(address.text)\n",
    "            print(price.text)\n",
    "            print(number_bedrooms[0].text)\n",
    "            print(number_bathrooms[0].text)\n",
    "            print(square_feet[0].text)\n",
    "            print(property_status[0].text)\n",
    "\n",
    "\n",
    "\n"
   ]
  },
  {
   "cell_type": "code",
   "execution_count": null,
   "id": "separate-morris",
   "metadata": {},
   "outputs": [],
   "source": [
    "# Quit browser\n",
    "browser.quit()"
   ]
  },
  {
   "cell_type": "code",
   "execution_count": null,
   "id": "divine-clothing",
   "metadata": {},
   "outputs": [],
   "source": []
  }
 ],
 "metadata": {
  "kernelspec": {
   "display_name": "Python 3",
   "language": "python",
   "name": "python3"
  },
  "language_info": {
   "codemirror_mode": {
    "name": "ipython",
    "version": 3
   },
   "file_extension": ".py",
   "mimetype": "text/x-python",
   "name": "python",
   "nbconvert_exporter": "python",
   "pygments_lexer": "ipython3",
   "version": "3.8.8"
  }
 },
 "nbformat": 4,
 "nbformat_minor": 5
}
